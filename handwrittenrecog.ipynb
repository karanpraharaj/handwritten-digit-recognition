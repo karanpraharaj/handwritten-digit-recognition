{
  "nbformat": 4,
  "nbformat_minor": 0,
  "metadata": {
    "colab": {
      "name": "PyTorch walkthrough.ipynb",
      "version": "0.3.2",
      "provenance": []
    },
    "kernelspec": {
      "name": "python3",
      "display_name": "Python 3"
    },
    "accelerator": "GPU"
  },
  "cells": [
    {
      "cell_type": "markdown",
      "metadata": {
        "id": "6M2T1PIroycj",
        "colab_type": "text"
      },
      "source": [
        "# **Handwritten Digits Classification - MNIST**"
      ]
    },
    {
      "cell_type": "code",
      "metadata": {
        "id": "BZCOt0v3WVjX",
        "colab_type": "code",
        "colab": {}
      },
      "source": [
        "import numpy as np\n",
        "import torch\n",
        "import torchvision\n",
        "import matplotlib.pyplot as plt\n",
        "from time import time\n",
        "from torchvision import datasets, transforms\n",
        "from torch import nn, optim\n"
      ],
      "execution_count": 0,
      "outputs": []
    },
    {
      "cell_type": "code",
      "metadata": {
        "id": "SV6ZVlqxWtC7",
        "colab_type": "code",
        "colab": {}
      },
      "source": [
        "# Transforming the image to tensors and normalizing it\n",
        "# x_normalized = x-mean / std\n",
        "# The values 0.5 and 0.5 represent the mean and standard deviation for 3 channels: red, green, and blue.\n",
        "\n",
        "\n",
        "transform = transforms.Compose([transforms.ToTensor(),\n",
        "                                transforms.Normalize((0.5,),(0.5,))\n",
        "                               ])"
      ],
      "execution_count": 0,
      "outputs": []
    },
    {
      "cell_type": "code",
      "metadata": {
        "id": "8ZpUa09hwjeZ",
        "colab_type": "code",
        "colab": {
          "base_uri": "https://localhost:8080/",
          "height": 255
        },
        "outputId": "95c66879-1ba3-451e-b904-c0ed99af7ba7"
      },
      "source": [
        "# Data loading\n",
        "# (Data loader: Combines a dataset and a sampler, and provides single- or multi-process iterators over the dataset.)\n",
        "\n",
        "trainset = datasets.MNIST('', download = True, train = True, transform = transform )\n",
        "valset = datasets.MNIST('', download = True, train = False, transform = transform)\n",
        "\n",
        "trainloader = torch.utils.data.DataLoader(trainset, batch_size = 64, shuffle = True)\n",
        "valloader = torch.utils.data.DataLoader(valset, batch_size = 64, shuffle = True)"
      ],
      "execution_count": 4,
      "outputs": [
        {
          "output_type": "stream",
          "text": [
            "  0%|          | 0/9912422 [00:00<?, ?it/s]"
          ],
          "name": "stderr"
        },
        {
          "output_type": "stream",
          "text": [
            "Downloading http://yann.lecun.com/exdb/mnist/train-images-idx3-ubyte.gz to MNIST/raw/train-images-idx3-ubyte.gz\n"
          ],
          "name": "stdout"
        },
        {
          "output_type": "stream",
          "text": [
            "9920512it [00:00, 19463813.49it/s]                            \n"
          ],
          "name": "stderr"
        },
        {
          "output_type": "stream",
          "text": [
            "Extracting MNIST/raw/train-images-idx3-ubyte.gz\n"
          ],
          "name": "stdout"
        },
        {
          "output_type": "stream",
          "text": [
            "32768it [00:00, 329771.70it/s]\n",
            "0it [00:00, ?it/s]"
          ],
          "name": "stderr"
        },
        {
          "output_type": "stream",
          "text": [
            "Downloading http://yann.lecun.com/exdb/mnist/train-labels-idx1-ubyte.gz to MNIST/raw/train-labels-idx1-ubyte.gz\n",
            "Extracting MNIST/raw/train-labels-idx1-ubyte.gz\n",
            "Downloading http://yann.lecun.com/exdb/mnist/t10k-images-idx3-ubyte.gz to MNIST/raw/t10k-images-idx3-ubyte.gz\n"
          ],
          "name": "stdout"
        },
        {
          "output_type": "stream",
          "text": [
            "1654784it [00:00, 5124850.59it/s]                           \n",
            "8192it [00:00, 131800.53it/s]\n"
          ],
          "name": "stderr"
        },
        {
          "output_type": "stream",
          "text": [
            "Extracting MNIST/raw/t10k-images-idx3-ubyte.gz\n",
            "Downloading http://yann.lecun.com/exdb/mnist/t10k-labels-idx1-ubyte.gz to MNIST/raw/t10k-labels-idx1-ubyte.gz\n",
            "Extracting MNIST/raw/t10k-labels-idx1-ubyte.gz\n",
            "Processing...\n",
            "Done!\n"
          ],
          "name": "stdout"
        }
      ]
    },
    {
      "cell_type": "code",
      "metadata": {
        "id": "bx1NM5ejzMOs",
        "colab_type": "code",
        "colab": {}
      },
      "source": [
        "# Visualisation of one image tensor and its label\n",
        "dataiter = iter(trainloader)\n",
        "images, labels = dataiter.next()\n"
      ],
      "execution_count": 0,
      "outputs": []
    },
    {
      "cell_type": "code",
      "metadata": {
        "id": "TZ5f6FGoW9x8",
        "colab_type": "code",
        "outputId": "fde0b19b-a20b-4d97-8108-50f21b6a3fab",
        "colab": {
          "base_uri": "https://localhost:8080/",
          "height": 286
        }
      },
      "source": [
        "# Plotting one image sample from the dataset\n",
        "plt.imshow(images[0].numpy().squeeze(), cmap='Blues')"
      ],
      "execution_count": 6,
      "outputs": [
        {
          "output_type": "execute_result",
          "data": {
            "text/plain": [
              "<matplotlib.image.AxesImage at 0x7f7a073c9a58>"
            ]
          },
          "metadata": {
            "tags": []
          },
          "execution_count": 6
        },
        {
          "output_type": "display_data",
          "data": {
            "image/png": "[encoded data removed]",
            "text/plain": [
              "<Figure size 432x288 with 1 Axes>"
            ]
          },
          "metadata": {
            "tags": []
          }
        }
      ]
    },
    {
      "cell_type": "code",
      "metadata": {
        "id": "ImaFp_wo46Ym",
        "colab_type": "code",
        "outputId": "29cc8484-8584-4cc5-90db-4841cafaf81a",
        "colab": {
          "base_uri": "https://localhost:8080/",
          "height": 266
        }
      },
      "source": [
        "# Plotting multiple images from dataset\n",
        "\n",
        "plt.figure()\n",
        "for i in range(1,61):\n",
        "  plt.subplot(6,10,i)\n",
        "  plt.imshow(images[i].numpy().squeeze(), cmap = 'binary')\n",
        "  plt.axis('off')"
      ],
      "execution_count": 7,
      "outputs": [
        {
          "output_type": "display_data",
          "data": {
            "image/png": "[encoded data removed]",
            "text/plain": [
              "<Figure size 432x288 with 60 Axes>"
            ]
          },
          "metadata": {
            "tags": []
          }
        }
      ]
    },
    {
      "cell_type": "code",
      "metadata": {
        "id": "ftCeHchv5QDb",
        "colab_type": "code",
        "outputId": "35d513fa-6f90-4f1d-ce38-3477446bbcc2",
        "colab": {
          "base_uri": "https://localhost:8080/",
          "height": 153
        }
      },
      "source": [
        "# Building the Neural Network\n",
        "ip = 784\n",
        "op = 10\n",
        "hidden = [128,64]\n",
        "model = nn.Sequential(nn.Linear(ip,hidden[0]),\n",
        "                 nn.ReLU(),\n",
        "                 nn.Linear(hidden[0],hidden[1]),\n",
        "                 nn.ReLU(),\n",
        "                 nn.Linear(hidden[1],op),\n",
        "                 nn.LogSoftmax(dim=1))\n",
        "\n",
        "print(model)"
      ],
      "execution_count": 22,
      "outputs": [
        {
          "output_type": "stream",
          "text": [
            "Sequential(\n",
            "  (0): Linear(in_features=784, out_features=128, bias=True)\n",
            "  (1): ReLU()\n",
            "  (2): Linear(in_features=128, out_features=64, bias=True)\n",
            "  (3): ReLU()\n",
            "  (4): Linear(in_features=64, out_features=10, bias=True)\n",
            "  (5): LogSoftmax()\n",
            ")\n"
          ],
          "name": "stdout"
        }
      ]
    },
    {
      "cell_type": "code",
      "metadata": {
        "id": "kPyEzoJzW-vO",
        "colab_type": "code",
        "colab": {
          "base_uri": "https://localhost:8080/",
          "height": 34
        },
        "outputId": "bb3b8f92-2f5d-4dd7-b5ee-e1ee7ce56a84"
      },
      "source": [
        "# Defining Negative Log Likelihood Loss\n",
        "\n",
        "criterion = nn.NLLLoss()\n",
        "images, labels = next(iter(trainloader))\n",
        "images = images.view(images.shape[0],-1)  #Flattening the input\n",
        "\n",
        "logps = model(images)    # Feeding input data to the model and obtaining log probs.\n",
        "loss = criterion(logps,labels) #Calculating loss"
      ],
      "execution_count": 27,
      "outputs": [
        {
          "output_type": "execute_result",
          "data": {
            "text/plain": [
              "tensor(2.3081, grad_fn=<NllLossBackward>)"
            ]
          },
          "metadata": {
            "tags": []
          },
          "execution_count": 27
        }
      ]
    },
    {
      "cell_type": "code",
      "metadata": {
        "id": "roCq5_Th7F5z",
        "colab_type": "code",
        "colab": {
          "base_uri": "https://localhost:8080/",
          "height": 255
        },
        "outputId": "a43f08c9-8fca-47e7-f422-c538c73c59b9"
      },
      "source": [
        "# Adjusting Weights\n",
        "\n",
        "print(\"Weight of model before backward pass:\", model[0].weight.grad)\n",
        "loss.backward()\n",
        "print(\"Weight of model after backward pass:\", model[0].weight.grad)"
      ],
      "execution_count": 31,
      "outputs": [
        {
          "output_type": "stream",
          "text": [
            "Weight of model before backward pass: None\n",
            "Weight of model after backward pass: tensor([[-3.2827e-03, -3.2827e-03, -3.2827e-03,  ..., -3.2827e-03,\n",
            "         -3.2827e-03, -3.2827e-03],\n",
            "        [-3.7005e-04, -3.7005e-04, -3.7005e-04,  ..., -3.7005e-04,\n",
            "         -3.7005e-04, -3.7005e-04],\n",
            "        [-3.2224e-05, -3.2224e-05, -3.2224e-05,  ..., -3.2224e-05,\n",
            "         -3.2224e-05, -3.2224e-05],\n",
            "        ...,\n",
            "        [-1.8870e-06, -1.8870e-06, -1.8870e-06,  ..., -1.8870e-06,\n",
            "         -1.8870e-06, -1.8870e-06],\n",
            "        [ 4.9896e-04,  4.9896e-04,  4.9896e-04,  ...,  4.9896e-04,\n",
            "          4.9896e-04,  4.9896e-04],\n",
            "        [ 6.7099e-04,  6.7099e-04,  6.7099e-04,  ...,  6.7099e-04,\n",
            "          6.7099e-04,  6.7099e-04]])\n"
          ],
          "name": "stdout"
        }
      ]
    },
    {
      "cell_type": "code",
      "metadata": {
        "id": "qUr5S3EOpFNE",
        "colab_type": "code",
        "colab": {
          "base_uri": "https://localhost:8080/",
          "height": 306
        },
        "outputId": "fe9b9a09-81b0-455f-892a-bb9b717bdb7a"
      },
      "source": [
        "# Core Training Process\n",
        "\n",
        "optimizer = optim.SGD(model.parameters(), lr=0.003, momentum = 0.9)\n",
        "epochs = 15\n",
        "time0 = time()\n",
        "for i in range(epochs):\n",
        "  running_loss=0.0\n",
        "  for images,labels in trainloader:\n",
        "    images = images.view(images.shape[0],-1)\n",
        "    optimizer.zero_grad()\n",
        "    loglik =  model(images)\n",
        "    loss = criterion(loglik,labels)\n",
        "    loss.backward()\n",
        "    running_loss += loss.item()  \n",
        "    optimizer.step()\n",
        "    \n",
        "  else:\n",
        "    print(\"Epoch - {}. Training Loss = {}\".format(i,running_loss/len(trainloader)))\n",
        "    \n",
        "print(\"\\nTraining Time (in minutes) =\",(time()-time0)/60)\n",
        "    "
      ],
      "execution_count": 35,
      "outputs": [
        {
          "output_type": "stream",
          "text": [
            "Epoch - 0. Training Loss = 0.0475572211695696\n",
            "Epoch - 1. Training Loss = 0.04540746462847124\n",
            "Epoch - 2. Training Loss = 0.041572787709581824\n",
            "Epoch - 3. Training Loss = 0.03770065159479311\n",
            "Epoch - 4. Training Loss = 0.03636878542602062\n",
            "Epoch - 5. Training Loss = 0.0319516891276023\n",
            "Epoch - 6. Training Loss = 0.030395421114112777\n",
            "Epoch - 7. Training Loss = 0.02908714662895782\n",
            "Epoch - 8. Training Loss = 0.026412484984694003\n",
            "Epoch - 9. Training Loss = 0.024170892205891577\n",
            "Epoch - 10. Training Loss = 0.022451410340125374\n",
            "Epoch - 11. Training Loss = 0.021971048116048515\n",
            "Epoch - 12. Training Loss = 0.018970710219446022\n",
            "Epoch - 13. Training Loss = 0.017809126172651613\n",
            "Epoch - 14. Training Loss = 0.016712404529391323\n",
            "\n",
            "Training Time (in minutes) = 2.2919679005940754\n"
          ],
          "name": "stdout"
        }
      ]
    },
    {
      "cell_type": "code",
      "metadata": {
        "id": "yN0H42fCRQTf",
        "colab_type": "code",
        "colab": {
          "base_uri": "https://localhost:8080/",
          "height": 708
        },
        "outputId": "8133fa9c-85a8-44e4-c71f-fba8a1ac5b3c"
      },
      "source": [
        "# Testing and evaluation\n",
        "\n",
        "images,labels = next(iter(valset))\n",
        "images,labels = next(iter(valset))\n",
        "print(images.shape)\n",
        "img = images.view(1,784)\n",
        "\n",
        "lossval = model(img)\n",
        "\n",
        "ps = torch.exp(lossval.detach())\n",
        "probab = list(ps.numpy()[0])\n",
        "print(\"Predicted Digit =\", probab.index(max(probab)))\n",
        "plt.imshow(images[0])\n",
        "fig, ax = plt.subplots()\n",
        "ax.bar(names, probab, align='center')\n",
        "ax.set_xticks(range(9))\n"
      ],
      "execution_count": 70,
      "outputs": [
        {
          "output_type": "stream",
          "text": [
            "torch.Size([1, 28, 28])\n",
            "Predicted Digit = 7\n"
          ],
          "name": "stdout"
        },
        {
          "output_type": "execute_result",
          "data": {
            "text/plain": [
              "[<matplotlib.axis.XTick at 0x7f7a04a663c8>,\n",
              " <matplotlib.axis.XTick at 0x7f7a04b797f0>,\n",
              " <matplotlib.axis.XTick at 0x7f7a04b79048>,\n",
              " <matplotlib.axis.XTick at 0x7f7a049ad0b8>,\n",
              " <matplotlib.axis.XTick at 0x7f7a049ad518>,\n",
              " <matplotlib.axis.XTick at 0x7f7a049ad9e8>,\n",
              " <matplotlib.axis.XTick at 0x7f7a049adeb8>,\n",
              " <matplotlib.axis.XTick at 0x7f7a049b33c8>,\n",
              " <matplotlib.axis.XTick at 0x7f7a049b38d0>]"
            ]
          },
          "metadata": {
            "tags": []
          },
          "execution_count": 70
        },
        {
          "output_type": "display_data",
          "data": {
            "image/png": "[encoded data removed]",
            "text/plain": [
              "<Figure size 432x288 with 1 Axes>"
            ]
          },
          "metadata": {
            "tags": []
          }
        },
        {
          "output_type": "display_data",
          "data": {
            "image/png": "[encoded data removed]",
            "text/plain": [
              "<Figure size 432x288 with 1 Axes>"
            ]
          },
          "metadata": {
            "tags": []
          }
        }
      ]
    },
    {
      "cell_type": "code",
      "metadata": {
        "id": "KtS3q0ygagFg",
        "colab_type": "code",
        "colab": {
          "base_uri": "https://localhost:8080/",
          "height": 68
        },
        "outputId": "e2ac0d3f-5837-4a82-97e2-e66c4bc194be"
      },
      "source": [
        "correct_count, all_count = 0, 0\n",
        "for images,labels in valloader:\n",
        "  for i in range(len(labels)):\n",
        "    img = images[i].view(1, 784)\n",
        "    with torch.no_grad():\n",
        "        logps = model(img)\n",
        "\n",
        "    \n",
        "    ps = torch.exp(logps)\n",
        "    probab = list(ps.numpy()[0])\n",
        "    pred_label = probab.index(max(probab))\n",
        "    true_label = labels.numpy()[i]\n",
        "    if(true_label == pred_label):\n",
        "      correct_count += 1\n",
        "    all_count += 1\n",
        "\n",
        "print(\"Number Of Images Tested =\", all_count)\n",
        "print(\"\\nModel Accuracy =\", (correct_count/all_count))"
      ],
      "execution_count": 80,
      "outputs": [
        {
          "output_type": "stream",
          "text": [
            "Number Of Images Tested = 10000\n",
            "\n",
            "Model Accuracy = 0.9776\n"
          ],
          "name": "stdout"
        }
      ]
    },
    {
      "cell_type": "code",
      "metadata": {
        "id": "uA4GZKs-g9JL",
        "colab_type": "code",
        "colab": {
          "base_uri": "https://localhost:8080/",
          "height": 34
        },
        "outputId": "1a7e3a59-ad7b-4315-9cdd-534d41498ec1"
      },
      "source": [
        "#for i in range(len(labels)):\n",
        "  print(images.shape)"
      ],
      "execution_count": 79,
      "outputs": [
        {
          "output_type": "stream",
          "text": [
            "torch.Size([16, 1, 28, 28])\n"
          ],
          "name": "stdout"
        }
      ]
    },
    {
      "cell_type": "code",
      "metadata": {
        "id": "azYo46PoZ9sI",
        "colab_type": "code",
        "colab": {}
      },
      "source": [
        ""
      ],
      "execution_count": 0,
      "outputs": []
    }
  ]
}